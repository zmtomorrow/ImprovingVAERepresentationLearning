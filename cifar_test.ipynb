{
 "cells": [
  {
   "cell_type": "code",
   "execution_count": 15,
   "metadata": {},
   "outputs": [
    {
     "name": "stderr",
     "output_type": "stream",
     "text": [
      "/home/ma-user/anaconda3/envs/Pytorch-1.0.0/lib/python3.6/site-packages/torch/nn/functional.py:1320: UserWarning: nn.functional.tanh is deprecated. Use torch.tanh instead.\n",
      "  warnings.warn(\"nn.functional.tanh is deprecated. Use torch.tanh instead.\")\n",
      "/home/ma-user/anaconda3/envs/Pytorch-1.0.0/lib/python3.6/site-packages/torch/nn/functional.py:1332: UserWarning: nn.functional.sigmoid is deprecated. Use torch.sigmoid instead.\n",
      "  warnings.warn(\"nn.functional.sigmoid is deprecated. Use torch.sigmoid instead.\")\n"
     ]
    },
    {
     "name": "stdout",
     "output_type": "stream",
     "text": [
      "bpd_cifar 3.032758094097828\n",
      "test det acc 0.7523999989032746\n",
      "test linear acc 0.7146\n"
     ]
    }
   ],
   "source": [
    "import torch\n",
    "from utils import *\n",
    "from model import *\n",
    "from main import *\n",
    "%matplotlib inline\n",
    "\n",
    "opt = {}\n",
    "if torch.cuda.is_available():\n",
    "    torch.backends.cudnn.deterministic = True\n",
    "    torch.backends.cudnn.benchmark = True\n",
    "    opt[\"device\"] = torch.device(\"cuda:0\")\n",
    "    opt[\"if_cuda\"] = True\n",
    "else:\n",
    "    opt[\"device\"] = torch.device(\"cpu\")\n",
    "    opt[\"if_cuda\"] = False\n",
    "\n",
    "opt['data_set']='CIFAR'\n",
    "opt['dataset_path']='../data/cifar10'\n",
    "opt['save_path']='./save/'\n",
    "opt['result_path']='./results/'\n",
    "opt['epochs'] = 100\n",
    "opt['class_epochs']=100\n",
    "opt['batch_size'] = 100\n",
    "opt['test_batch_size']=1000\n",
    "opt['lr']=1e-3\n",
    "opt['encoder_bn']=True\n",
    "opt['decoder_channels']=100\n",
    "opt['data_aug']=False\n",
    "opt['prior']='Gaussian'\n",
    "opt['if_ed_bn']=True\n",
    "opt['if_pixel_bn']=False\n",
    "opt['z_dim']=64\n",
    "opt['net']='res'\n",
    "opt['data_aug']=True\n",
    "opt['if_local']=False\n",
    "opt['x_dis']='mix_logistic_ca'\n",
    "opt['sto_rep']=False\n",
    "\n",
    "\n",
    "train_data_loader,test_data_loader,train_data_evaluation=LoadData(opt)\n",
    "\n",
    "\n",
    "net=PixelVAE(opt).to(opt['device'])\n",
    "name='./save/cifar_1000.pth'\n",
    "\n",
    "net.load_state_dict(torch.load(name))\n",
    "bpd_cifar,_=BPDEval(net,test_data_loader,opt)\n",
    "print('bpd_cifar',bpd_cifar)\n",
    "\n",
    "det_accuracy=DetClassEval(net,train_data_loader,test_data_loader,opt)\n",
    "linear_acc=LinerSVM(net,train_data_loader,test_data_loader,opt)\n",
    "\n",
    "print('test det acc',det_accuracy)\n",
    "print('test linear acc',linear_acc)"
   ]
  }
 ],
 "metadata": {
  "kernelspec": {
   "display_name": "Pytorch-1.0.0",
   "language": "python",
   "name": "pytorch-1.0.0"
  },
  "language_info": {
   "codemirror_mode": {
    "name": "ipython",
    "version": 3
   },
   "file_extension": ".py",
   "mimetype": "text/x-python",
   "name": "python",
   "nbconvert_exporter": "python",
   "pygments_lexer": "ipython3",
   "version": "3.6.4"
  }
 },
 "nbformat": 4,
 "nbformat_minor": 5
}
